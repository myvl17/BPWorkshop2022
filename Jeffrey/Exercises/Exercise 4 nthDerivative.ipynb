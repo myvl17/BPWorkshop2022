{
 "cells": [
  {
   "cell_type": "code",
   "execution_count": 4,
   "id": "84d77e36",
   "metadata": {},
   "outputs": [],
   "source": [
    "def nthDerivative(list, n):\n",
    "    if n == 0:\n",
    "        return list\n",
    "\n",
    "    else:\n",
    "        arr = []\n",
    "        for i in range(1, len(list)):\n",
    "            arr.append(list[i] * i)\n",
    "        return nthDerivative(arr, n-1)"
   ]
  },
  {
   "cell_type": "code",
   "execution_count": 7,
   "id": "eb1e42fc",
   "metadata": {},
   "outputs": [
    {
     "data": {
      "text/plain": [
       "[]"
      ]
     },
     "execution_count": 7,
     "metadata": {},
     "output_type": "execute_result"
    }
   ],
   "source": [
    "nthDerivative([2, 16, 5], 3)"
   ]
  },
  {
   "cell_type": "code",
   "execution_count": 11,
   "id": "03e40d29",
   "metadata": {},
   "outputs": [
    {
     "data": {
      "text/plain": [
       "[3.0]"
      ]
     },
     "execution_count": 11,
     "metadata": {},
     "output_type": "execute_result"
    }
   ],
   "source": [
    "nthDerivative([2,1,1.5], 2)"
   ]
  },
  {
   "cell_type": "code",
   "execution_count": 12,
   "id": "bbf826c3",
   "metadata": {},
   "outputs": [
    {
     "data": {
      "text/plain": [
       "[6, 192]"
      ]
     },
     "execution_count": 12,
     "metadata": {},
     "output_type": "execute_result"
    }
   ],
   "source": [
    "nthDerivative([0,0,4,1,8], 3)"
   ]
  },
  {
   "cell_type": "code",
   "execution_count": 2,
   "id": "e70089a9",
   "metadata": {},
   "outputs": [
    {
     "ename": "NameError",
     "evalue": "name 'nthDerivative' is not defined",
     "output_type": "error",
     "traceback": [
      "\u001b[1;31m---------------------------------------------------------------------------\u001b[0m",
      "\u001b[1;31mNameError\u001b[0m                                 Traceback (most recent call last)",
      "Input \u001b[1;32mIn [2]\u001b[0m, in \u001b[0;36m<cell line: 1>\u001b[1;34m()\u001b[0m\n\u001b[1;32m----> 1\u001b[0m \u001b[43mnthDerivative\u001b[49m([\u001b[38;5;241m0\u001b[39m,\u001b[38;5;241m-\u001b[39m\u001b[38;5;241m7\u001b[39m], \u001b[38;5;241m1\u001b[39m)\n",
      "\u001b[1;31mNameError\u001b[0m: name 'nthDerivative' is not defined"
     ]
    }
   ],
   "source": [
    "nthDerivative([0,-7], 1)"
   ]
  },
  {
   "cell_type": "code",
   "execution_count": null,
   "id": "3651d4cb",
   "metadata": {},
   "outputs": [],
   "source": []
  }
 ],
 "metadata": {
  "kernelspec": {
   "display_name": "Python 3 (ipykernel)",
   "language": "python",
   "name": "python3"
  },
  "language_info": {
   "codemirror_mode": {
    "name": "ipython",
    "version": 3
   },
   "file_extension": ".py",
   "mimetype": "text/x-python",
   "name": "python",
   "nbconvert_exporter": "python",
   "pygments_lexer": "ipython3",
   "version": "3.9.12"
  }
 },
 "nbformat": 4,
 "nbformat_minor": 5
}
