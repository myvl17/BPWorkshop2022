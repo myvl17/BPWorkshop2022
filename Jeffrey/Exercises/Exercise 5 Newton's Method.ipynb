{
 "cells": [
  {
   "cell_type": "code",
   "execution_count": 1,
   "id": "dc3a0821",
   "metadata": {},
   "outputs": [],
   "source": [
    "def newtonsMethod(x_0):\n",
    "        x_n = x_0 - f(x_0) / f_prime(x_0)\n",
    "\n",
    "        if x_0 - x_n < 10 ** -4:\n",
    "            return x_n\n",
    "\n",
    "        else:\n",
    "            return newtonsMethod(x_n)\n",
    "\n",
    "\n",
    "def f(x):\n",
    "    return x ** 3 - 3 * x + 1\n",
    "\n",
    "\n",
    "def f_prime(x):\n",
    "    return 3 * x ** 2 - 3"
   ]
  },
  {
   "cell_type": "code",
   "execution_count": 2,
   "id": "cfdaf803",
   "metadata": {},
   "outputs": [
    {
     "data": {
      "text/plain": [
       "1.532088886237968"
      ]
     },
     "execution_count": 2,
     "metadata": {},
     "output_type": "execute_result"
    }
   ],
   "source": [
    "newtonsMethod(2)"
   ]
  },
  {
   "cell_type": "code",
   "execution_count": null,
   "id": "621cc515",
   "metadata": {},
   "outputs": [],
   "source": []
  }
 ],
 "metadata": {
  "kernelspec": {
   "display_name": "Python 3 (ipykernel)",
   "language": "python",
   "name": "python3"
  },
  "language_info": {
   "codemirror_mode": {
    "name": "ipython",
    "version": 3
   },
   "file_extension": ".py",
   "mimetype": "text/x-python",
   "name": "python",
   "nbconvert_exporter": "python",
   "pygments_lexer": "ipython3",
   "version": "3.9.12"
  }
 },
 "nbformat": 4,
 "nbformat_minor": 5
}
