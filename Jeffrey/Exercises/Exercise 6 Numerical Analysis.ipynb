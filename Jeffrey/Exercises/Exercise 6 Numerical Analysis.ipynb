{
 "cells": [
  {
   "cell_type": "markdown",
   "id": "63564f6f",
   "metadata": {},
   "source": [
    "Exercise 0.1. Use implementation of Newton's Method to approxiamte hte value of sqrt(2). Let your initial value x_0 = 2."
   ]
  },
  {
   "cell_type": "code",
   "execution_count": 35,
   "id": "92c9ec76",
   "metadata": {},
   "outputs": [
    {
     "data": {
      "text/plain": [
       "1.4142135623746899"
      ]
     },
     "execution_count": 35,
     "metadata": {},
     "output_type": "execute_result"
    }
   ],
   "source": [
    "# x_n = x_(n-1) - f(x_(n-1)) / f'(x_(n-1))\n",
    "def newtonsMethod(x_0):\n",
    "        x_n = x_0 - f(x_0) / f_prime(x_0)\n",
    "\n",
    "        # Recursive check: Checks for tolerance condition, abs() to counter negative values\n",
    "        if abs(x_0 - x_n) < 10 ** -4:\n",
    "            return x_n\n",
    "\n",
    "        else:\n",
    "            return newtonsMethod(x_n)\n",
    "        \n",
    "# f(x)\n",
    "def f(x):\n",
    "    return x ** 2 - 2\n",
    "\n",
    "# f'(x)\n",
    "def f_prime(x):\n",
    "    return 2 * x\n",
    "\n",
    "newtonsMethod(2)"
   ]
  },
  {
   "cell_type": "markdown",
   "id": "5e50c582",
   "metadata": {},
   "source": [
    "Exercise 0.2. Create a Newton's Method implementation to have tolerance be one of the input values for your function. Also, instead of erasing every step, save every iteration x_n on a vector that you return at the end of your algorithm."
   ]
  },
  {
   "cell_type": "code",
   "execution_count": 33,
   "id": "12d3e016",
   "metadata": {},
   "outputs": [
    {
     "name": "stdout",
     "output_type": "stream",
     "text": [
      "[1.5, 1.4166666666666667, 1.4142156862745099]\n"
     ]
    },
    {
     "data": {
      "text/plain": [
       "1.4142135623746899"
      ]
     },
     "execution_count": 33,
     "metadata": {},
     "output_type": "execute_result"
    }
   ],
   "source": [
    "array = []\n",
    "\n",
    "def newNewtonsMethod(x_0):\n",
    "        x_n = x_0 - f(x_0) / f_prime(x_0)\n",
    "\n",
    "        if abs(x_0 - x_n) < 10 ** -4:\n",
    "            print(array)\n",
    "            array.clear()\n",
    "            return x_n\n",
    "\n",
    "        else:\n",
    "            array.append(x_n)\n",
    "            return newNewtonsMethod(x_n)\n",
    "\n",
    "\n",
    "def f(x):\n",
    "    return x ** 2 - 2\n",
    "\n",
    "\n",
    "def f_prime(x):\n",
    "    return 2* x\n",
    "\n",
    "\n",
    "newNewtonsMethod(2)"
   ]
  },
  {
   "cell_type": "raw",
   "id": "98cf0bfa",
   "metadata": {},
   "source": [
    "Exercise 0.3. Use your new implementation of Newton's Method with a tolerance level of 10^-10 to approximate the real root of x^3 + x - 1. Let your initial value x_0 = -0.7. Using the vector returned in your answer, calculate the error e_i = |x_r - r| at each step, where r represents the true value. Also calculate the current error divided by the previous error square, e_i / (e_(i-1))^2."
   ]
  },
  {
   "cell_type": "code",
   "execution_count": 36,
   "id": "c680a58c",
   "metadata": {},
   "outputs": [
    {
     "name": "stdout",
     "output_type": "stream",
     "text": [
      "Approximate root = 0.6823278038280193\n",
      "Linear error = [0.6253645038642884, 0.2103808388806233, 0.03221159716412014, 0.0008653348805675032, 6.391337316058454e-07, 3.489430966396867e-13]\n",
      "Quadratic error = [0.5379472961843001, 0.7277796272388128, 0.8339877883523992, 0.8535389004279128, 0.854222748801735]\n"
     ]
    }
   ],
   "source": [
    "iteration_array = []\n",
    "\n",
    "\n",
    "def newNewtonsMethod(x_0):\n",
    "    x_n = x_0 - f(x_0) / f_prime(x_0)\n",
    "\n",
    "    if abs(x_0 - x_n) < 10 ** -10:\n",
    "        return x_n\n",
    "\n",
    "    else:\n",
    "        iteration_array.append(x_n)\n",
    "        return newNewtonsMethod(x_n)\n",
    "\n",
    "\n",
    "def f(x):\n",
    "    return x ** 3 + x - 1\n",
    "\n",
    "\n",
    "def f_prime(x):\n",
    "    return 3 * x ** 2 + 1\n",
    "\n",
    "\n",
    "x_i = newNewtonsMethod(2)\n",
    "print(\"Approximate root = \" + str(x_i))\n",
    "\n",
    "error_array = []\n",
    "for number in iteration_array:\n",
    "    e_i = abs(number - x_i)\n",
    "    error_array.append(e_i)\n",
    "\n",
    "linear_error = error_array[-1]\n",
    "print(\"Linear error = \" + str(error_array))\n",
    "\n",
    "quadratic_error_array = []\n",
    "\n",
    "for i in range(0, error_array.__len__()-1, 1):\n",
    "    quadratic_error = error_array[i+1] / (error_array[i] ** 2)\n",
    "    quadratic_error_array.append(quadratic_error)\n",
    "\n",
    "\n",
    "print(\"Quadratic error = \" + str(quadratic_error_array))"
   ]
  },
  {
   "cell_type": "markdown",
   "id": "136af127",
   "metadata": {},
   "source": [
    "4"
   ]
  },
  {
   "cell_type": "code",
   "execution_count": 2,
   "id": "c06b0883",
   "metadata": {},
   "outputs": [
    {
     "name": "stdout",
     "output_type": "stream",
     "text": [
      "Approximate root = 5.820766091346741e-11\n",
      "Linear error = [0.49999999994179234, 0.24999999994179234, 0.12499999994179234, 0.06249999994179234, 0.03124999994179234, 0.015624999941792339, 0.007812499941792339, 0.003906249941792339, 0.001953124941792339, 0.0009765624417923391, 0.0004882811917923391, 0.0002441405667923391, 0.00012207025429233909, 6.1035098042339087e-05, 3.0517519917339087e-05, 1.5258730854839087e-05, 7.6293363235890865e-06, 3.8146390579640865e-06, 1.9072904251515865e-06, 9.536161087453365e-07, 4.7677895054221153e-07, 2.3836037144064903e-07, 1.1915108188986778e-07, 5.954643711447716e-08, 2.9744114726781845e-08, 1.4842953532934189e-08, 7.392372936010361e-09, 3.6670826375484467e-09, 1.8044374883174896e-09, 8.731149137020111e-10, 4.0745362639427185e-10, 1.7462298274040222e-10, 5.820766091346741e-11]\n",
      "Quadratic error = [0.49999999994179234, 0.4999999998835847, 0.49999999976716936, 0.4999999995343387, 0.4999999990686774, 0.49999999813735485, 0.49999999627470965, 0.4999999925494193, 0.49999998509883836, 0.49999997019767584, 0.4999999403953481, 0.499999880790682, 0.4999997615813072, 0.49999952316238705, 0.4999990463238646, 0.4999980926440912, 0.4999961852736303, 0.49999237048905165, 0.499984740745262, 0.49996948055911616, 0.4999389573922598, 0.4998778998778999, 0.49975574010747437, 0.4995112414467253, 0.49902152641878667, 0.4980392156862745, 0.49606299212598426, 0.49206349206349204, 0.4838709677419355, 0.4666666666666667, 0.42857142857142855, 0.3333333333333333]\n"
     ]
    }
   ],
   "source": [
    "iteration_array = []\n",
    "\n",
    "\n",
    "def newNewtonsMethod(x_0):\n",
    "    x_n = x_0 - f(x_0) / f_prime(x_0)\n",
    "\n",
    "    if abs(x_0 - x_n) < 10 ** -10:\n",
    "        return x_n\n",
    "\n",
    "    else:\n",
    "        iteration_array.append(x_n)\n",
    "        return newNewtonsMethod(x_n)\n",
    "\n",
    "\n",
    "def f(x):\n",
    "    return x ** 2\n",
    "\n",
    "\n",
    "def f_prime(x):\n",
    "    return 2 * x\n",
    "\n",
    "\n",
    "x_i = newNewtonsMethod(1)\n",
    "\n",
    "print(\"Approximate root = \" + str(x_i))\n",
    "\n",
    "error_array = []\n",
    "for number in iteration_array:\n",
    "    e_i = abs(number - x_i)\n",
    "    error_array.append(e_i)\n",
    "\n",
    "\n",
    "linear_error = error_array[-1]\n",
    "print(\"Linear error = \" + str(error_array))\n",
    "\n",
    "quadratic_error_array = []\n",
    "\n",
    "for i in range(0, error_array.__len__()-1, 1):\n",
    "    quadratic_error = error_array[i+1] / (error_array[i])\n",
    "    quadratic_error_array.append(quadratic_error)\n",
    "\n",
    "\n",
    "print(\"Quadratic error = \" + str(quadratic_error_array))\n",
    "\n",
    "\n",
    "\n",
    "\n"
   ]
  },
  {
   "cell_type": "markdown",
   "id": "0729ad35",
   "metadata": {},
   "source": [
    "5"
   ]
  },
  {
   "cell_type": "code",
   "execution_count": 1,
   "id": "78780083",
   "metadata": {},
   "outputs": [
    {
     "name": "stdout",
     "output_type": "stream",
     "text": [
      "[0.5, 0.25, 0.125]\n",
      "Approximate root = 0.125\n",
      "Linear error = [0.375, 0.125, 0.0]\n",
      "Quadratic error = [0.3333333333333333, 0.0]\n"
     ]
    }
   ],
   "source": [
    "iteration_array = []\n",
    "\n",
    "\n",
    "def newNewtonsMethod(x_0, iterations):\n",
    "    for i in range(0, iterations, 1):\n",
    "        x_n = x_0 - f(x_0) / f_prime(x_0)\n",
    "        iteration_array.append(x_n)\n",
    "        x_0 = x_n\n",
    "\n",
    "    return x_n\n",
    "\n",
    "\n",
    "def f(x):\n",
    "    return x ** 2\n",
    "\n",
    "\n",
    "def f_prime(x):\n",
    "    return 2 * x\n",
    "\n",
    "\n",
    "x_i = newNewtonsMethod(1, 3)\n",
    "print(iteration_array)\n",
    "\n",
    "print(\"Approximate root = \" + str(x_i))\n",
    "\n",
    "error_array = []\n",
    "for number in iteration_array:\n",
    "    e_i = abs(number - x_i)\n",
    "    error_array.append(e_i)\n",
    "\n",
    "\n",
    "linear_error = error_array[-1]\n",
    "print(\"Linear error = \" + str(error_array))\n",
    "\n",
    "quadratic_error_array = []\n",
    "\n",
    "for i in range(0, error_array.__len__()-1, 1):\n",
    "    quadratic_error = error_array[i+1] / (error_array[i])\n",
    "    quadratic_error_array.append(quadratic_error)\n",
    "\n",
    "\n",
    "print(\"Quadratic error = \" + str(quadratic_error_array))"
   ]
  },
  {
   "cell_type": "markdown",
   "id": "9cca2bc1",
   "metadata": {},
   "source": [
    "6"
   ]
  },
  {
   "cell_type": "code",
   "execution_count": null,
   "id": "49354a7a",
   "metadata": {},
   "outputs": [],
   "source": [
    "iteration_array = []\n",
    "\n",
    "\n",
    "def newNewtonsMethod(x_0, iterations):\n",
    "    for i in range(0, iterations, 1):\n",
    "        x_n = x_0 - f(x_0) / f_prime(x_0)\n",
    "        iteration_array.append(x_n)\n",
    "        x_0 = x_n\n",
    "\n",
    "    return x_n\n",
    "\n",
    "\n",
    "def f(x):\n",
    "    return x ** 3 - 2 * x + 2\n",
    "\n",
    "\n",
    "def f_prime(x):\n",
    "    return 3 * x ** 2 - 2\n",
    "\n",
    "\n",
    "x_i = newNewtonsMethod(0, 10)\n",
    "print(iteration_array)\n",
    "\n",
    "print(\"Approximate root = \" + str(x_i))\n",
    "\n",
    "error_array = []\n",
    "for number in iteration_array:\n",
    "    e_i = abs(number - x_i)\n",
    "    error_array.append(e_i)\n",
    "\n",
    "\n",
    "linear_error = error_array[-1]\n",
    "print(\"Linear error = \" + str(error_array))\n"
   ]
  }
 ],
 "metadata": {
  "kernelspec": {
   "display_name": "Python 3 (ipykernel)",
   "language": "python",
   "name": "python3"
  },
  "language_info": {
   "codemirror_mode": {
    "name": "ipython",
    "version": 3
   },
   "file_extension": ".py",
   "mimetype": "text/x-python",
   "name": "python",
   "nbconvert_exporter": "python",
   "pygments_lexer": "ipython3",
   "version": "3.9.12"
  }
 },
 "nbformat": 4,
 "nbformat_minor": 5
}
