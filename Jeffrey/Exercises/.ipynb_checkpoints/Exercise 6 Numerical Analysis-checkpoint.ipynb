{
 "cells": [
  {
   "cell_type": "markdown",
   "id": "2d7b3083",
   "metadata": {},
   "source": [
    "Exercise 0.1. Use implementation of Newton's Method to approxiamte hte value of sqrt(2). Let your initial value x_0 = 2."
   ]
  },
  {
   "cell_type": "code",
   "execution_count": 35,
   "id": "92c9ec76",
   "metadata": {},
   "outputs": [
    {
     "data": {
      "text/plain": [
       "1.4142135623746899"
      ]
     },
     "execution_count": 35,
     "metadata": {},
     "output_type": "execute_result"
    }
   ],
   "source": [
    "# x_n = x_(n-1) - f(x_(n-1)) / f'(x_(n-1))\n",
    "def newtonsMethod(x_0):\n",
    "        x_n = x_0 - f(x_0) / f_prime(x_0)\n",
    "\n",
    "        # Recursive check: Checks for tolerance condition, abs() to counter negative values\n",
    "        if abs(x_0 - x_n) < 10 ** -4:\n",
    "            return x_n\n",
    "\n",
    "        else:\n",
    "            return newtonsMethod(x_n)\n",
    "        \n",
    "# f(x)\n",
    "def f(x):\n",
    "    return x ** 2 - 2\n",
    "\n",
    "# f'(x)\n",
    "def f_prime(x):\n",
    "    return 2 * x\n",
    "\n",
    "newtonsMethod(2)"
   ]
  },
  {
   "cell_type": "markdown",
   "id": "2f33c167",
   "metadata": {},
   "source": [
    "Exercise 0.2. Create a Newton's Method implementation to have tolerance be one of the input values for your function. Also, instead of erasing every step, save every iteration x_n on a vector that you return at the end of your algorithm."
   ]
  },
  {
   "cell_type": "code",
   "execution_count": 33,
   "id": "74825ab5",
   "metadata": {},
   "outputs": [
    {
     "name": "stdout",
     "output_type": "stream",
     "text": [
      "[1.5, 1.4166666666666667, 1.4142156862745099]\n"
     ]
    },
    {
     "data": {
      "text/plain": [
       "1.4142135623746899"
      ]
     },
     "execution_count": 33,
     "metadata": {},
     "output_type": "execute_result"
    }
   ],
   "source": [
    "array = []\n",
    "\n",
    "def newNewtonsMethod(x_0):\n",
    "        x_n = x_0 - f(x_0) / f_prime(x_0)\n",
    "\n",
    "        if abs(x_0 - x_n) < 10 ** -4:\n",
    "            print(array)\n",
    "            array.clear()\n",
    "            return x_n\n",
    "\n",
    "        else:\n",
    "            array.append(x_n)\n",
    "            return newNewtonsMethod(x_n)\n",
    "\n",
    "\n",
    "def f(x):\n",
    "    return x ** 2 - 2\n",
    "\n",
    "\n",
    "def f_prime(x):\n",
    "    return 2* x\n",
    "\n",
    "\n",
    "newNewtonsMethod(2)"
   ]
  },
  {
   "cell_type": "raw",
   "id": "89175b93",
   "metadata": {},
   "source": [
    "Exercise 0.3. Use your new implementation of Newton's Method with a tolerance level of 10^-10 to approximate the real root of x^3 + x - 1. Let your initial value x_0 = -0.7. Using the vector returned in your answer, calculate the error e_i = |x_r - r| at each step, where r represents the true value. Also calculate the current error divided by the previous error square, e_i / (e_(i-1))^2."
   ]
  },
  {
   "cell_type": "code",
   "execution_count": 36,
   "id": "874ef67f",
   "metadata": {},
   "outputs": [
    {
     "name": "stdout",
     "output_type": "stream",
     "text": [
      "Approximate root = 0.6823278038280193\n",
      "Linear error = [0.6253645038642884, 0.2103808388806233, 0.03221159716412014, 0.0008653348805675032, 6.391337316058454e-07, 3.489430966396867e-13]\n",
      "Quadratic error = [0.5379472961843001, 0.7277796272388128, 0.8339877883523992, 0.8535389004279128, 0.854222748801735]\n"
     ]
    }
   ],
   "source": [
    "iteration_array = []\n",
    "\n",
    "\n",
    "def newNewtonsMethod(x_0):\n",
    "    x_n = x_0 - f(x_0) / f_prime(x_0)\n",
    "\n",
    "    if abs(x_0 - x_n) < 10 ** -10:\n",
    "        return x_n\n",
    "\n",
    "    else:\n",
    "        iteration_array.append(x_n)\n",
    "        return newNewtonsMethod(x_n)\n",
    "\n",
    "\n",
    "def f(x):\n",
    "    return x ** 3 + x - 1\n",
    "\n",
    "\n",
    "def f_prime(x):\n",
    "    return 3 * x ** 2 + 1\n",
    "\n",
    "\n",
    "x_i = newNewtonsMethod(2)\n",
    "print(\"Approximate root = \" + str(x_i))\n",
    "\n",
    "error_array = []\n",
    "for number in iteration_array:\n",
    "    e_i = abs(number - x_i)\n",
    "    error_array.append(e_i)\n",
    "\n",
    "linear_error = error_array[-1]\n",
    "print(\"Linear error = \" + str(error_array))\n",
    "\n",
    "quadratic_error_array = []\n",
    "\n",
    "for i in range(0, error_array.__len__()-1, 1):\n",
    "    quadratic_error = error_array[i+1] / (error_array[i] ** 2)\n",
    "    quadratic_error_array.append(quadratic_error)\n",
    "\n",
    "\n",
    "print(\"Quadratic error = \" + str(quadratic_error_array))"
   ]
  },
  {
   "cell_type": "code",
   "execution_count": null,
   "id": "828923f3",
   "metadata": {},
   "outputs": [],
   "source": []
  }
 ],
 "metadata": {
  "kernelspec": {
   "display_name": "Python 3 (ipykernel)",
   "language": "python",
   "name": "python3"
  },
  "language_info": {
   "codemirror_mode": {
    "name": "ipython",
    "version": 3
   },
   "file_extension": ".py",
   "mimetype": "text/x-python",
   "name": "python",
   "nbconvert_exporter": "python",
   "pygments_lexer": "ipython3",
   "version": "3.9.12"
  }
 },
 "nbformat": 4,
 "nbformat_minor": 5
}
