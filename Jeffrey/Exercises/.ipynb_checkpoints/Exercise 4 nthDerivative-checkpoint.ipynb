{
 "cells": [
  {
   "cell_type": "code",
   "execution_count": 9,
   "id": "84d77e36",
   "metadata": {},
   "outputs": [],
   "source": [
    "def nthDerivative(list, n):\n",
    "    if n == 0:\n",
    "        return list\n",
    "\n",
    "    else:\n",
    "        arr = []\n",
    "        for i in range(1, len(list)):\n",
    "            arr.append(list[i] * i)\n",
    "        return nthDerivative(arr, n-1)"
   ]
  },
  {
   "cell_type": "code",
   "execution_count": 10,
   "id": "eb1e42fc",
   "metadata": {},
   "outputs": [
    {
     "data": {
      "text/plain": [
       "[4]"
      ]
     },
     "execution_count": 10,
     "metadata": {},
     "output_type": "execute_result"
    }
   ],
   "source": [
    "nthDerivative([0, 4], 1)"
   ]
  },
  {
   "cell_type": "code",
   "execution_count": 11,
   "id": "03e40d29",
   "metadata": {},
   "outputs": [
    {
     "data": {
      "text/plain": [
       "[3.0]"
      ]
     },
     "execution_count": 11,
     "metadata": {},
     "output_type": "execute_result"
    }
   ],
   "source": [
    "nthDerivative([2,1,1.5], 2)"
   ]
  },
  {
   "cell_type": "code",
   "execution_count": 12,
   "id": "bbf826c3",
   "metadata": {},
   "outputs": [
    {
     "data": {
      "text/plain": [
       "[6, 192]"
      ]
     },
     "execution_count": 12,
     "metadata": {},
     "output_type": "execute_result"
    }
   ],
   "source": [
    "nthDerivative([0,0,4,1,8], 3)"
   ]
  },
  {
   "cell_type": "code",
   "execution_count": null,
   "id": "e70089a9",
   "metadata": {},
   "outputs": [],
   "source": []
  }
 ],
 "metadata": {
  "kernelspec": {
   "display_name": "Python 3 (ipykernel)",
   "language": "python",
   "name": "python3"
  },
  "language_info": {
   "codemirror_mode": {
    "name": "ipython",
    "version": 3
   },
   "file_extension": ".py",
   "mimetype": "text/x-python",
   "name": "python",
   "nbconvert_exporter": "python",
   "pygments_lexer": "ipython3",
   "version": "3.9.12"
  }
 },
 "nbformat": 4,
 "nbformat_minor": 5
}
