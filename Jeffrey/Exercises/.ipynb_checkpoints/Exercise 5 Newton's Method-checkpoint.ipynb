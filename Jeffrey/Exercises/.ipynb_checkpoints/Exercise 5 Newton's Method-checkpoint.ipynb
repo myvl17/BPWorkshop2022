{
 "cells": [
  {
   "cell_type": "code",
   "execution_count": null,
   "id": "92c9ec76",
   "metadata": {},
   "outputs": [],
   "source": [
    "# x_n = x_(n-1) - f(x_(n-1)) / f'(x_(n-1))\n",
    "def newtonsMethod(x_0):\n",
    "        x_n = x_0 - f(x_0) / f_prime(x_0)\n",
    "\n",
    "        # Recursive check: Checks for tolerance condition, abs() to counter negative values\n",
    "        if abs(x_0 - x_n) < 10 ** -4:\n",
    "            return x_n\n",
    "\n",
    "        else:\n",
    "            return newtonsMethod(x_n)\n",
    "\n",
    "# f(x)\n",
    "def f(x):\n",
    "    return x ** 3 - 3 * x + 1\n",
    "\n",
    "# f'(x)\n",
    "def f_prime(x):\n",
    "    return 3 * x ** 2 - 3"
   ]
  },
  {
   "cell_type": "code",
   "execution_count": 5,
   "id": "cfdaf803",
   "metadata": {},
   "outputs": [
    {
     "data": {
      "text/plain": [
       "1.532088886237968"
      ]
     },
     "execution_count": 5,
     "metadata": {},
     "output_type": "execute_result"
    }
   ],
   "source": [
    "newtonsMethod(2)"
   ]
  },
  {
   "cell_type": "markdown",
   "id": "4cbd059f",
   "metadata": {},
   "source": []
  }
 ],
 "metadata": {
  "kernelspec": {
   "display_name": "Python 3 (ipykernel)",
   "language": "python",
   "name": "python3"
  },
  "language_info": {
   "codemirror_mode": {
    "name": "ipython",
    "version": 3
   },
   "file_extension": ".py",
   "mimetype": "text/x-python",
   "name": "python",
   "nbconvert_exporter": "python",
   "pygments_lexer": "ipython3",
   "version": "3.9.12"
  }
 },
 "nbformat": 4,
 "nbformat_minor": 5
}
