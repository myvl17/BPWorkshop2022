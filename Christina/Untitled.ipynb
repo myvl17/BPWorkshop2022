{
 "cells": [
  {
   "cell_type": "code",
   "execution_count": 34,
   "id": "cef422eb",
   "metadata": {},
   "outputs": [],
   "source": [
    "def factorial(n):\n",
    "    # fact = n so that the loop has a number the first time through\n",
    "    fact = n\n",
    "    # check if n = 0 because factorial 0 = 1\n",
    "    if (n == 0):\n",
    "        fact = 1\n",
    "    else:\n",
    "    # loop through subtracting one until i = 1\n",
    "    # Descending order, \n",
    "        for i in range((n - 1), 1, -1):\n",
    "            fact = fact * i\n",
    "    return fact\n",
    "\n",
    "\n",
    "\n",
    "    \n",
    "        "
   ]
  },
  {
   "cell_type": "code",
   "execution_count": 36,
   "id": "96bbbcea",
   "metadata": {},
   "outputs": [
    {
     "data": {
      "text/plain": [
       "120"
      ]
     },
     "execution_count": 36,
     "metadata": {},
     "output_type": "execute_result"
    }
   ],
   "source": [
    "factorial(5)\n",
    "\n"
   ]
  },
  {
   "cell_type": "code",
   "execution_count": null,
   "id": "4736db4a",
   "metadata": {},
   "outputs": [],
   "source": []
  }
 ],
 "metadata": {
  "kernelspec": {
   "display_name": "Python 3 (ipykernel)",
   "language": "python",
   "name": "python3"
  },
  "language_info": {
   "codemirror_mode": {
    "name": "ipython",
    "version": 3
   },
   "file_extension": ".py",
   "mimetype": "text/x-python",
   "name": "python",
   "nbconvert_exporter": "python",
   "pygments_lexer": "ipython3",
   "version": "3.9.12"
  }
 },
 "nbformat": 4,
 "nbformat_minor": 5
}
