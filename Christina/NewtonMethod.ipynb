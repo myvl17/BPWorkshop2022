{
 "cells": [
  {
   "cell_type": "code",
   "execution_count": 114,
   "id": "44fc3ad5",
   "metadata": {},
   "outputs": [],
   "source": [
    "# Create the original equation and the derivate as functions\n",
    "def y(n):\n",
    "    func = (n**3) - (3*n) + 1\n",
    "    return func\n",
    "def deriv(n):\n",
    "    func = (3*(n**2) - 3)\n",
    "    return func\n",
    "\n",
    "def Newton(initial):\n",
    "    # Create the variables so the loop will work the first time through\n",
    "    tol = 100\n",
    "    cont = True\n",
    "    while (cont != False):\n",
    "        # loop  through creating equation one and two \n",
    "        eqtn1 = initial - (y(initial)/deriv(initial))\n",
    "        eqtn2 = eqtn1 - (y(eqtn1)/deriv(eqtn1))\n",
    "        \n",
    "        # Calculates the tolerance\n",
    "        tol = abs(eqtn2 - eqtn1)\n",
    "        \n",
    "        # When the tolerance is less than or equal to 0.0001, stop the loop, return the value\n",
    "        if (0.0001 < tol):\n",
    "            cont = True\n",
    "            initial = eqtn2\n",
    "        else:\n",
    "            return eqtn2\n",
    "   \n",
    "        \n",
    "\n",
    "\n",
    "\n"
   ]
  },
  {
   "cell_type": "code",
   "execution_count": 115,
   "id": "7af5d0b5",
   "metadata": {},
   "outputs": [
    {
     "data": {
      "text/plain": [
       "9"
      ]
     },
     "execution_count": 115,
     "metadata": {},
     "output_type": "execute_result"
    }
   ],
   "source": [
    "y(2)\n",
    "deriv(2)"
   ]
  },
  {
   "cell_type": "code",
   "execution_count": 116,
   "id": "d7856821",
   "metadata": {},
   "outputs": [
    {
     "name": "stdout",
     "output_type": "stream",
     "text": [
      "1.532088886237956\n"
     ]
    }
   ],
   "source": [
    "print(Newton(2))\n"
   ]
  },
  {
   "cell_type": "code",
   "execution_count": null,
   "id": "d5949c2d",
   "metadata": {},
   "outputs": [],
   "source": [
    "\n"
   ]
  },
  {
   "cell_type": "code",
   "execution_count": null,
   "id": "d85a5153",
   "metadata": {},
   "outputs": [],
   "source": []
  },
  {
   "cell_type": "code",
   "execution_count": null,
   "id": "c4bdd6fc",
   "metadata": {},
   "outputs": [],
   "source": []
  },
  {
   "cell_type": "code",
   "execution_count": null,
   "id": "7e502799",
   "metadata": {},
   "outputs": [],
   "source": []
  }
 ],
 "metadata": {
  "kernelspec": {
   "display_name": "Python 3 (ipykernel)",
   "language": "python",
   "name": "python3"
  },
  "language_info": {
   "codemirror_mode": {
    "name": "ipython",
    "version": 3
   },
   "file_extension": ".py",
   "mimetype": "text/x-python",
   "name": "python",
   "nbconvert_exporter": "python",
   "pygments_lexer": "ipython3",
   "version": "3.9.12"
  }
 },
 "nbformat": 4,
 "nbformat_minor": 5
}
