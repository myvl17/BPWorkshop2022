{
 "cells": [
  {
   "cell_type": "code",
   "execution_count": 159,
   "id": "88695b49",
   "metadata": {
    "scrolled": true
   },
   "outputs": [
    {
     "name": "stdout",
     "output_type": "stream",
     "text": [
      "   number pokemon_name                                            pic_url  \\\n",
      "0       1    Bulbasaur  https://static.wikia.nocookie.net/pokemongo/im...   \n",
      "1       2      Ivysaur  https://static.wikia.nocookie.net/pokemongo/im...   \n",
      "2       3     Venusaur  https://static.wikia.nocookie.net/pokemongo/im...   \n",
      "3       4   Charmander  https://static.wikia.nocookie.net/pokemongo/im...   \n",
      "4       5   Charmeleon  https://static.wikia.nocookie.net/pokemongo/im...   \n",
      "\n",
      "  main_type secondary_type region category height  weight     pokemon_family  \\\n",
      "0     Grass         Poison  Kanto     Seed  0.7 m  6.9 kg   Bulbasaur family   \n",
      "1     Grass         Poison  Kanto     Seed    1 m   13 kg   Bulbasaur family   \n",
      "2     Grass         Poison  Kanto     Seed    2 m  100 kg   Bulbasaur family   \n",
      "3      Fire            NaN  Kanto   Lizard  0.6 m  8.5 kg  Charmander family   \n",
      "4      Fire            NaN  Kanto    Flame  1.1 m   19 kg  Charmander family   \n",
      "\n",
      "   ...                                         resistance  \\\n",
      "0  ...  {'62.5%': ['Electric', 'Fairy', 'Fighting', 'W...   \n",
      "1  ...  {'62.5%': ['Electric', 'Fairy', 'Fighting', 'W...   \n",
      "2  ...  {'62.5%': ['Electric', 'Fairy', 'Fighting', 'W...   \n",
      "3  ...  {'62.5%': ['Bug', 'Fairy', 'Fire', 'Grass', 'I...   \n",
      "4  ...  {'62.5%': ['Bug', 'Fairy', 'Fire', 'Grass', 'I...   \n",
      "\n",
      "                                         weakness  wild_avail egg_avail  \\\n",
      "0  {'160%': ['Fire', 'Flying', 'Ice', 'Psychic']}        Yes         No   \n",
      "1  {'160%': ['Fire', 'Flying', 'Ice', 'Psychic']}        Yes         No   \n",
      "2  {'160%': ['Fire', 'Flying', 'Ice', 'Psychic']}        Yes         No   \n",
      "3           {'160%': ['Ground', 'Rock', 'Water']}        Yes         No   \n",
      "4           {'160%': ['Ground', 'Rock', 'Water']}        Yes         No   \n",
      "\n",
      "                   raid_avail research_avail shiny shadow  \\\n",
      "0  Formerly  (1st tier level)           Yes    Yes    Yes   \n",
      "1  Formerly  (1st tier level)             No   Yes    Yes   \n",
      "2  Formerly  (3rd tier level)      Formerly    Yes    Yes   \n",
      "3  Formerly  (1st tier level)           Yes    Yes    Yes   \n",
      "4  Formerly  (2nd tier level)      Formerly    Yes    Yes   \n",
      "\n",
      "                                         pkedex_desc  \\\n",
      "0  Bulbasaur can be seen napping in bright sunlig...   \n",
      "1  There is a bud on this Pokémon's back. To supp...   \n",
      "2  Standard Pokédex description\\nThere is a large...   \n",
      "3  The flame that burns at the tip of its tail is...   \n",
      "4  Charmeleon mercilessly destroys its foes using...   \n",
      "\n",
      "                                        poss_attacks  \n",
      "0  ['Tackle', 'Vine Whip', 'Power Whip', 'Seed Bo...  \n",
      "1  ['Razor Leaf', 'Vine Whip', 'Power Whip', 'Slu...  \n",
      "2  ['Razor Leaf', 'Vine Whip', 'Petal Blizzard', ...  \n",
      "3  ['Ember', 'Scratch', 'Flame Burst', 'Flame Cha...  \n",
      "4  ['Ember', 'Fire Fang', 'Scratch', 'Fire Punch'...  \n",
      "\n",
      "[5 rows x 29 columns]\n",
      "[161.86103896103896] [142.58831168831168] [169.06233766233765]\n",
      "[161.0] [139.0] [163.0]\n",
      "           attack     stamina     defense\n",
      "count  770.000000  770.000000  770.000000\n",
      "mean   161.861039  169.062338  142.588312\n",
      "std     55.817370   44.214794   50.171027\n",
      "min     17.000000    1.000000   32.000000\n",
      "25%    118.000000  137.000000  102.250000\n",
      "50%    161.000000  163.000000  139.000000\n",
      "75%    204.000000  190.000000  176.000000\n",
      "max    345.000000  496.000000  396.000000\n"
     ]
    },
    {
     "data": {
      "text/plain": [
       "[False    716\n",
       " True      54\n",
       " Name: powerful_pokemon, dtype: int64]"
      ]
     },
     "execution_count": 159,
     "metadata": {},
     "output_type": "execute_result"
    },
    {
     "data": {
      "image/png": "[encoded data removed]",
      "text/plain": [
       "<Figure size 432x288 with 1 Axes>"
      ]
     },
     "metadata": {
      "needs_background": "light"
     },
     "output_type": "display_data"
    }
   ],
   "source": [
    "import pandas as pd\n",
    "import numpy as np\n",
    "import matplotlib.pyplot as plt\n",
    "\n",
    "# Read the file and look at a snippet of it\n",
    "pg = pd.read_csv(\"pokemon.csv\", na_values = \"NaN\")\n",
    "\n",
    "print(pg.head())\n",
    "\n",
    "# Change values that are numbers to numerical\n",
    "pg[\"capture_rate\"] = pg[\"capture_rate\"].str.rstrip(\"%\").astype(float)\n",
    "pg[\"height\"] = pg[\"height\"].str.rstrip(\"m\").astype(float)\n",
    "\n",
    "# Question: How many of these pokemon are considered powerful\n",
    "\n",
    "# Find the mean in order to look at a central value\n",
    "attack_mean = [pg[\"attack\"].mean()]\n",
    "defense_mean = [pg[\"defense\"].mean()]\n",
    "stamina_mean = [pg[\"stamina\"].mean()]\n",
    "\n",
    "print(attack_mean, defense_mean, stamina_mean)\n",
    "\n",
    "# Find the median to determine what the value in the boxplot will be\n",
    "attack_median = [pg[\"attack\"].median()]\n",
    "defense_median = [pg[\"defense\"].median()]\n",
    "stamina_median = [pg[\"stamina\"].median()]\n",
    "\n",
    "print(attack_median, defense_median, stamina_median)\n",
    "\n",
    "# Initializing the plot\n",
    "fig, ax = plt.subplots()\n",
    "\n",
    "# Creating a chunk of data for the boxplots\n",
    "data =(pg[\"attack\"], pg[\"defense\"], pg[\"stamina\"])\n",
    "\n",
    "# Creation of the boxplots\n",
    "ax.boxplot(data, labels = [\"Attack\", \"Defense\", \"Stamina\"])\n",
    "\n",
    "# Adding a column to the end of the data that uses boolean logic to determine idf a pokemon is powerful\n",
    "pg[\"powerful_pokemon\"] = (pg[\"attack\"] >= 204) & (pg[\"defense\"] >= 176) & (pg[\"stamina\"] >= 190)\n",
    "\n",
    "# Compute summary statisticcs to determine what the 75% value is\n",
    "print(pg[['attack', 'stamina', 'defense']].describe())\n",
    "\n",
    "    # Count the number of powerful pokemon in our dataset\n",
    "    [(pg[\"powerful_pokemon\"].value_counts())]\n",
    "\n",
    "#54 powerful pokemon\n"
   ]
  },
  {
   "cell_type": "code",
   "execution_count": null,
   "id": "b24176b0",
   "metadata": {
    "scrolled": true
   },
   "outputs": [],
   "source": []
  },
  {
   "cell_type": "code",
   "execution_count": 149,
   "id": "9ffe5438",
   "metadata": {},
   "outputs": [
    {
     "data": {
      "image/png": "[encoded data removed]",
      "text/plain": [
       "<Figure size 720x432 with 1 Axes>"
      ]
     },
     "metadata": {
      "needs_background": "light"
     },
     "output_type": "display_data"
    }
   ],
   "source": [
    "# Question: Which pokemon are the easiest vs. the hardest to capture?\n",
    "\n",
    "# Grouped the data into the mean of each type of pokemon\n",
    "df = pg.groupby(['main_type'])['capture_rate'].mean()\n",
    "\n",
    "# Created the bar graph of the data\n",
    "ax = df.plot(kind='bar', figsize=(10,6), color=\"indigo\");\n",
    "ax.set_alpha(0.8)\n",
    "\n",
    "# Setting the titles so the table is readable\n",
    "ax.set_title(\"Type of pokemon vs. average capture rate\")\n",
    "ax.set_ylabel(\"Mean Capture Rate\");\n",
    "ax.set_xlabel(\"Type of Pokemon\")\n",
    "\n",
    "# Showing the bar graph\n",
    "plt.show()\n",
    "\n",
    "# Dragon are hardest to capture, poison and normal are easiest"
   ]
  },
  {
   "cell_type": "code",
   "execution_count": null,
   "id": "992fe8ae",
   "metadata": {},
   "outputs": [],
   "source": []
  },
  {
   "cell_type": "code",
   "execution_count": null,
   "id": "eb70ca7e",
   "metadata": {
    "scrolled": false
   },
   "outputs": [],
   "source": [
    "\n"
   ]
  },
  {
   "cell_type": "code",
   "execution_count": null,
   "id": "a98475b3",
   "metadata": {},
   "outputs": [],
   "source": []
  },
  {
   "cell_type": "code",
   "execution_count": 162,
   "id": "93eeed0b",
   "metadata": {
    "scrolled": false
   },
   "outputs": [
    {
     "data": {
      "text/plain": [
       "Text(0.5, 1.0, 'Height vs Type of Pokemon')"
      ]
     },
     "execution_count": 162,
     "metadata": {},
     "output_type": "execute_result"
    },
    {
     "data": {
      "image/png": "[encoded data removed]",
      "text/plain": [
       "<Figure size 864x504 with 1 Axes>"
      ]
     },
     "metadata": {
      "needs_background": "light"
     },
     "output_type": "display_data"
    }
   ],
   "source": [
    "# Question: Which type of pokemon is likely to be the tallest vs the shortest?\n",
    "\n",
    "# Create large figure size so the variables are readable\n",
    "ax2 = pg.boxplot(column=\"height\",by=\"main_type\", figsize = (12, 7))\n",
    "\n",
    "# Add labels to make descriptibe\n",
    "ax2.set_ylabel(\"Height\")\n",
    "ax2.set_xlabel(\"Type of Pokemon\")\n",
    "ax2.set_title(\"Height vs Type of Pokemon\")\n",
    "\n",
    "# Dragon type seems to have the highest median value for height\n",
    "# Fairy seems to be the shortest, both make sense"
   ]
  },
  {
   "cell_type": "code",
   "execution_count": 118,
   "id": "5803540e",
   "metadata": {},
   "outputs": [
    {
     "data": {
      "text/plain": [
       "['number',\n",
       " 'pokemon_name',\n",
       " 'pic_url',\n",
       " 'main_type',\n",
       " 'secondary_type',\n",
       " 'region',\n",
       " 'category',\n",
       " 'height',\n",
       " 'weight',\n",
       " 'pokemon_family',\n",
       " 'attack',\n",
       " 'defense',\n",
       " 'stamina',\n",
       " 'cp_range',\n",
       " 'hp_range',\n",
       " 'capture_rate',\n",
       " 'flee_rate',\n",
       " 'male_perc',\n",
       " 'female_perc',\n",
       " 'resistance',\n",
       " 'weakness',\n",
       " 'wild_avail',\n",
       " 'egg_avail',\n",
       " 'raid_avail',\n",
       " 'research_avail',\n",
       " 'shiny',\n",
       " 'shadow',\n",
       " 'pkedex_desc',\n",
       " 'poss_attacks',\n",
       " 'powerful_pokemon']"
      ]
     },
     "execution_count": 118,
     "metadata": {},
     "output_type": "execute_result"
    }
   ],
   "source": []
  },
  {
   "cell_type": "code",
   "execution_count": 127,
   "id": "b1aeda10",
   "metadata": {},
   "outputs": [
    {
     "data": {
      "text/plain": [
       "numpy.float64"
      ]
     },
     "execution_count": 127,
     "metadata": {},
     "output_type": "execute_result"
    }
   ],
   "source": []
  },
  {
   "cell_type": "code",
   "execution_count": null,
   "id": "a9f7a482",
   "metadata": {},
   "outputs": [],
   "source": []
  }
 ],
 "metadata": {
  "kernelspec": {
   "display_name": "Python 3 (ipykernel)",
   "language": "python",
   "name": "python3"
  },
  "language_info": {
   "codemirror_mode": {
    "name": "ipython",
    "version": 3
   },
   "file_extension": ".py",
   "mimetype": "text/x-python",
   "name": "python",
   "nbconvert_exporter": "python",
   "pygments_lexer": "ipython3",
   "version": "3.9.12"
  }
 },
 "nbformat": 4,
 "nbformat_minor": 5
}
