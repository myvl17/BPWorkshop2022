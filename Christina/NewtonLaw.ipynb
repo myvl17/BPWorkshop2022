{
 "cells": [
  {
   "cell_type": "code",
   "execution_count": 61,
   "id": "44fc3ad5",
   "metadata": {},
   "outputs": [],
   "source": [
    "def y(n):\n",
    "    func = (n**3) - (3*n) + 1\n",
    "    return func\n",
    "def deriv(n):\n",
    "    func = (3*(n**2) - 3)\n",
    "    return func\n",
    "\n",
    "def Newton(initial):\n",
    "    tol = 100\n",
    "    cont = True\n",
    "    while (cont != False):\n",
    "        eqtn1 = initial - (y(initial)/deriv(initial))\n",
    "        eqtn2 = eqtn1 - (y(eqtn1)/deriv(eqtn1))\n",
    "        tol = abs(eqtn2 - eqtn1)\n",
    "        if (0.0001 < tol):\n",
    "            cont = True\n",
    "            initial = eqtn2\n",
    "        else:\n",
    "            return eqtn2"
   ]
  },
  {
   "cell_type": "code",
   "execution_count": 62,
   "id": "7af5d0b5",
   "metadata": {},
   "outputs": [
    {
     "data": {
      "text/plain": [
       "9"
      ]
     },
     "execution_count": 62,
     "metadata": {},
     "output_type": "execute_result"
    }
   ],
   "source": [
    "y(2)\n",
    "deriv(2)"
   ]
  },
  {
   "cell_type": "code",
   "execution_count": 63,
   "id": "d7856821",
   "metadata": {},
   "outputs": [
    {
     "name": "stdout",
     "output_type": "stream",
     "text": [
      "1.532088886237956\n"
     ]
    }
   ],
   "source": [
    "print(Newton(2))\n"
   ]
  },
  {
   "cell_type": "markdown",
   "id": "ebc5d00a",
   "metadata": {},
   "source": [
    "Exercise 0.1. Use your implementation of Newton’s Method to approximate the value√2.Let your initial valuex0= 2.\n"
   ]
  },
  {
   "cell_type": "code",
   "execution_count": 64,
   "id": "d85a5153",
   "metadata": {},
   "outputs": [],
   "source": [
    "def y(n):\n",
    "    func = (n*n) - 2\n",
    "    return func\n",
    "def deriv(n):\n",
    "    func = 2*n\n",
    "    return func\n",
    "\n",
    "def Newton(initial):\n",
    "    tol = 100\n",
    "    cont = True\n",
    "    while (cont != False):\n",
    "        eqtn1 = initial - (y(initial)/deriv(initial))\n",
    "        eqtn2 = eqtn1 - (y(eqtn1)/deriv(eqtn1))\n",
    "        tol = abs(eqtn2 - eqtn1)\n",
    "        if (0.0001 < tol):\n",
    "            cont = True\n",
    "            initial = eqtn2\n",
    "        else:\n",
    "            return eqtn2"
   ]
  },
  {
   "cell_type": "code",
   "execution_count": 65,
   "id": "885dfa25",
   "metadata": {},
   "outputs": [
    {
     "name": "stdout",
     "output_type": "stream",
     "text": [
      "1.4142135623746899\n"
     ]
    }
   ],
   "source": [
    "print(Newton(2))"
   ]
  },
  {
   "cell_type": "markdown",
   "id": "ffbd82d1",
   "metadata": {},
   "source": [
    "Exercise 0.2.Create a Newton’s Method implementation to have tolerance be one of theinput values for your function.  Also, instead of erasing every step, save every iterationxnon a vector that you return at the end of your algorithm."
   ]
  },
  {
   "cell_type": "code",
   "execution_count": 66,
   "id": "d5591019",
   "metadata": {},
   "outputs": [],
   "source": [
    "def y(n):\n",
    "    func = (n*n) - 2\n",
    "    return func\n",
    "def deriv(n):\n",
    "    func = 2*n\n",
    "    return func\n",
    "\n",
    "def Newton(initial, tolerance):\n",
    "    cont = True\n",
    "    tol = 100\n",
    "    values = []\n",
    "    while (cont != False):\n",
    "        eqtn1 = initial - (y(initial)/deriv(initial))\n",
    "        eqtn2 = eqtn1 - (y(eqtn1)/deriv(eqtn1))\n",
    "        tol = abs(eqtn2 - eqtn1)\n",
    "        if (initial not in values):\n",
    "            values.append(initial)\n",
    "        if (eqtn1 not in values):\n",
    "            values.append(eqtn1)\n",
    "        if (eqtn2 not in values):\n",
    "            values.append(eqtn2)\n",
    "        if (tolerance < tol):\n",
    "            cont = True\n",
    "            initial = eqtn2\n",
    "        else:\n",
    "            return values\n",
    "   "
   ]
  },
  {
   "cell_type": "code",
   "execution_count": 67,
   "id": "b5db7e49",
   "metadata": {},
   "outputs": [
    {
     "name": "stdout",
     "output_type": "stream",
     "text": [
      "[2, 1.5, 1.4166666666666667, 1.4142156862745099, 1.4142135623746899]\n"
     ]
    }
   ],
   "source": [
    "print(Newton(2, 0.0001))"
   ]
  },
  {
   "cell_type": "markdown",
   "id": "a7cdf08a",
   "metadata": {},
   "source": [
    "Exercise 0.3. \n",
    "\n"
   ]
  },
  {
   "cell_type": "code",
   "execution_count": 68,
   "id": "278f2c89",
   "metadata": {},
   "outputs": [],
   "source": [
    "def y(n):\n",
    "    func = n**3 + n - 1\n",
    "    return func\n",
    "def deriv(n):\n",
    "    func = 3 * (n**2) + 1\n",
    "    return func\n",
    "\n",
    "def Newton(initial, tolerance):\n",
    "    cont = True\n",
    "    tol = 100\n",
    "    values = []\n",
    "    while (cont != False):\n",
    "        eqtn1 = initial - (y(initial)/deriv(initial))\n",
    "        eqtn2 = eqtn1 - (y(eqtn1)/deriv(eqtn1))\n",
    "        tol = abs(eqtn2 - eqtn1)\n",
    "        if (initial not in values):\n",
    "            values.append(initial)\n",
    "        if (eqtn1 not in values):\n",
    "            values.append(eqtn1) \n",
    "        if (eqtn2 not in values):\n",
    "            values.append(eqtn2)\n",
    "        if (tolerance < tol):\n",
    "            cont = True\n",
    "            initial = eqtn2\n",
    "        else:\n",
    "            errors = []\n",
    "            double = []\n",
    "            i = 0\n",
    "            for value in values:\n",
    "                error = abs(value - eqtn2)\n",
    "                errors.append(error)\n",
    "            while errors[i]:\n",
    "                seconderror = errors[i + 1] / (errors[i]**2)\n",
    "                double.append(seconderror)\n",
    "                i += 1\n",
    "            return values, errors, double\n",
    "   "
   ]
  },
  {
   "cell_type": "code",
   "execution_count": 69,
   "id": "93abaf7f",
   "metadata": {},
   "outputs": [
    {
     "name": "stdout",
     "output_type": "stream",
     "text": [
      "([-0.7, 0.12712550607287465, 0.957678119175661, 0.7348277949945015, 0.6845917706849266, 0.6823321742044841, 0.6823278038443323, 0.6823278038280193], [1.3823278038280193, 0.5552022977551446, 0.27535031534764176, 0.052499991166482185, 0.002263966856907329, 4.3703764648350685e-06, 1.6313062012329738e-11, 0.0], [0.29055554500889896, 0.8932706579364764, 0.6924494488638747, 0.8213941473981851, 0.852665555089201, 0.8540785004123356, 0.0])\n"
     ]
    }
   ],
   "source": [
    "print(Newton(-0.7, 10 ** -10))"
   ]
  },
  {
   "cell_type": "markdown",
   "id": "87c7986d",
   "metadata": {},
   "source": [
    "The original error terms decrease each time while the second error terms fluctate between terms, some increase and some decrease. "
   ]
  },
  {
   "cell_type": "markdown",
   "id": "0999cf6b",
   "metadata": {},
   "source": [
    "Exercise 0.4"
   ]
  },
  {
   "cell_type": "code",
   "execution_count": 88,
   "id": "1742af59",
   "metadata": {},
   "outputs": [],
   "source": [
    "def y(n):\n",
    "    func = n**2\n",
    "    return func\n",
    "def deriv(n):\n",
    "    func = 2*n\n",
    "    return func\n",
    "\n",
    "def Newton(initial, tolerance):\n",
    "    cont = True\n",
    "    tol = 100\n",
    "    values = []\n",
    "    while (cont != False):\n",
    "        eqtn1 = initial - (y(initial)/deriv(initial))\n",
    "        eqtn2 = eqtn1 - (y(eqtn1)/deriv(eqtn1))\n",
    "        tol = abs(eqtn2 - eqtn1)\n",
    "        if (initial not in values):\n",
    "            values.append(initial)\n",
    "        if (eqtn1 not in values):\n",
    "            values.append(eqtn1)\n",
    "        if (eqtn2 not in values):\n",
    "            values.append(eqtn2)\n",
    "        if (tolerance < tol):\n",
    "            cont = True\n",
    "            initial = eqtn2\n",
    "        else:\n",
    "            errors = []\n",
    "            double = []\n",
    "            i = 0\n",
    "            for value in values:\n",
    "                error = abs(value - eqtn2)\n",
    "                errors.append(error)\n",
    "            while errors[i]:\n",
    "                seconderror = errors[i + 1] / (errors[i])\n",
    "                double.append(seconderror)\n",
    "                i += 1\n",
    "            return values, errors, double\n",
    "   "
   ]
  },
  {
   "cell_type": "code",
   "execution_count": 89,
   "id": "074408cf",
   "metadata": {},
   "outputs": [
    {
     "name": "stdout",
     "output_type": "stream",
     "text": [
      "([1, 0.5, 0.25, 0.125, 0.0625, 0.03125, 0.015625, 0.0078125, 0.00390625, 0.001953125, 0.0009765625, 0.00048828125, 0.000244140625, 0.0001220703125, 6.103515625e-05, 3.0517578125e-05, 1.52587890625e-05, 7.62939453125e-06, 3.814697265625e-06, 1.9073486328125e-06, 9.5367431640625e-07, 4.76837158203125e-07, 2.384185791015625e-07, 1.1920928955078125e-07, 5.960464477539063e-08, 2.9802322387695312e-08, 1.4901161193847656e-08, 7.450580596923828e-09, 3.725290298461914e-09, 1.862645149230957e-09, 9.313225746154785e-10, 4.656612873077393e-10, 2.3283064365386963e-10, 1.1641532182693481e-10, 5.820766091346741e-11], [0.9999999999417923, 0.49999999994179234, 0.24999999994179234, 0.12499999994179234, 0.06249999994179234, 0.03124999994179234, 0.015624999941792339, 0.007812499941792339, 0.003906249941792339, 0.001953124941792339, 0.0009765624417923391, 0.0004882811917923391, 0.0002441405667923391, 0.00012207025429233909, 6.1035098042339087e-05, 3.0517519917339087e-05, 1.5258730854839087e-05, 7.6293363235890865e-06, 3.8146390579640865e-06, 1.9072904251515865e-06, 9.536161087453365e-07, 4.7677895054221153e-07, 2.3836037144064903e-07, 1.1915108188986778e-07, 5.954643711447716e-08, 2.9744114726781845e-08, 1.4842953532934189e-08, 7.392372936010361e-09, 3.6670826375484467e-09, 1.8044374883174896e-09, 8.731149137020111e-10, 4.0745362639427185e-10, 1.7462298274040222e-10, 5.820766091346741e-11, 0.0], [0.49999999997089617, 0.49999999994179234, 0.4999999998835847, 0.49999999976716936, 0.4999999995343387, 0.4999999990686774, 0.49999999813735485, 0.49999999627470965, 0.4999999925494193, 0.49999998509883836, 0.49999997019767584, 0.4999999403953481, 0.499999880790682, 0.4999997615813072, 0.49999952316238705, 0.4999990463238646, 0.4999980926440912, 0.4999961852736303, 0.49999237048905165, 0.499984740745262, 0.49996948055911616, 0.4999389573922598, 0.4998778998778999, 0.49975574010747437, 0.4995112414467253, 0.49902152641878667, 0.4980392156862745, 0.49606299212598426, 0.49206349206349204, 0.4838709677419355, 0.4666666666666667, 0.42857142857142855, 0.3333333333333333, 0.0])\n"
     ]
    }
   ],
   "source": [
    "print(Newton(1, 10**-10))"
   ]
  },
  {
   "cell_type": "markdown",
   "id": "90e16343",
   "metadata": {},
   "source": [
    "The values look like they're diving by two each time until it gets to the true value. The error terms also look like they are dividing by two. The last terms look like they are barely varying until the last two numbers. "
   ]
  },
  {
   "cell_type": "markdown",
   "id": "9a11f0b4",
   "metadata": {},
   "source": [
    "Exercise 0.5"
   ]
  },
  {
   "cell_type": "code",
   "execution_count": 121,
   "id": "33a6059e",
   "metadata": {},
   "outputs": [],
   "source": [
    "def y(n):\n",
    "    func = n**2\n",
    "    return func\n",
    "def deriv(n):\n",
    "    func = 2*n\n",
    "    return func\n",
    "\n",
    "def Newton(initial, iterations):\n",
    "    cont = True\n",
    "    tol = 100\n",
    "    values = []\n",
    "    while (cont != False):\n",
    "        eqtn1 = initial - (y(initial)/deriv(initial))\n",
    "        eqtn2 = eqtn1 - (y(eqtn1)/deriv(eqtn1))\n",
    "        tol = abs(eqtn2 - eqtn1)\n",
    "        values.append(eqtn1)\n",
    "        values.append(eqtn2)\n",
    "        if (len(values) < iterations):\n",
    "            cont = True\n",
    "            initial = eqtn2\n",
    "        else:\n",
    "            errors = []\n",
    "            double = []\n",
    "            i = 0\n",
    "            for value in values:\n",
    "                error = abs(value - eqtn2)\n",
    "                errors.append(error)\n",
    "            while errors[i]:\n",
    "                seconderror = errors[i + 1] / (errors[i]**2)\n",
    "                double.append(seconderror)\n",
    "                i += 1\n",
    "            return values, errors, double\n",
    "   "
   ]
  },
  {
   "cell_type": "code",
   "execution_count": 122,
   "id": "1f97f1ab",
   "metadata": {},
   "outputs": [
    {
     "name": "stdout",
     "output_type": "stream",
     "text": [
      "([0.5, 0.25, 0.125, 0.0625], [0.4375, 0.1875, 0.0625, 0.0], [0.9795918367346939, 1.7777777777777777, 0.0])\n"
     ]
    }
   ],
   "source": [
    "print(Newton(1, 4))"
   ]
  },
  {
   "cell_type": "markdown",
   "id": "b707ad2c",
   "metadata": {},
   "source": [
    "Exercise 0.6"
   ]
  },
  {
   "cell_type": "code",
   "execution_count": 96,
   "id": "44c44a7b",
   "metadata": {},
   "outputs": [],
   "source": [
    "def y(n):\n",
    "    func = n**3 - 2*n + 2\n",
    "    return func\n",
    "def deriv(n):\n",
    "    func = (3 * (n**2)) - 2\n",
    "    return func\n",
    "\n",
    "def Newton(initial, iterations):\n",
    "    cont = True\n",
    "    tol = 100\n",
    "    values = []\n",
    "    while (cont != False):\n",
    "        eqtn1 = initial - (y(initial)/deriv(initial))\n",
    "        eqtn2 = eqtn1 - (y(eqtn1)/deriv(eqtn1))\n",
    "        tol = abs(eqtn2 - eqtn1)\n",
    "        values.append(eqtn1)\n",
    "        values.append(eqtn2)\n",
    "        if (len(values) <= iterations):\n",
    "            cont = True\n",
    "            initial = eqtn2\n",
    "        else:\n",
    "            errors = []\n",
    "            double = []\n",
    "            i = 0\n",
    "            for value in values:\n",
    "                error = abs(value - eqtn2)\n",
    "                errors.append(error)\n",
    "            return values, errors\n",
    "   "
   ]
  },
  {
   "cell_type": "code",
   "execution_count": 97,
   "id": "f86d3f4d",
   "metadata": {},
   "outputs": [
    {
     "name": "stdout",
     "output_type": "stream",
     "text": [
      "([1.0, 0.0, 1.0, 0.0, 1.0, 0.0, 1.0, 0.0, 1.0, 0.0, 1.0, 0.0], [1.0, 0.0, 1.0, 0.0, 1.0, 0.0, 1.0, 0.0, 1.0, 0.0, 1.0, 0.0])\n"
     ]
    }
   ],
   "source": [
    "print(Newton(0, 10))"
   ]
  },
  {
   "cell_type": "markdown",
   "id": "e6f554c5",
   "metadata": {},
   "source": [
    "No issues, the only thing is that the error and values are the same and rotate between 0 and 1."
   ]
  }
 ],
 "metadata": {
  "kernelspec": {
   "display_name": "Python 3 (ipykernel)",
   "language": "python",
   "name": "python3"
  },
  "language_info": {
   "codemirror_mode": {
    "name": "ipython",
    "version": 3
   },
   "file_extension": ".py",
   "mimetype": "text/x-python",
   "name": "python",
   "nbconvert_exporter": "python",
   "pygments_lexer": "ipython3",
   "version": "3.9.12"
  }
 },
 "nbformat": 4,
 "nbformat_minor": 5
}
