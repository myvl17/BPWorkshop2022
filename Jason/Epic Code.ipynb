{
 "cells": [
  {
   "cell_type": "code",
   "execution_count": 1,
   "id": "cc2c421e",
   "metadata": {},
   "outputs": [
    {
     "name": "stdout",
     "output_type": "stream",
     "text": [
      "55\n"
     ]
    }
   ],
   "source": [
    "\n",
    "n = 11 \n",
    "a = 0\n",
    "part_sum = a\n",
    "for i in range(a+1, n, 1):\n",
    "    part_sum = part_sum + i\n",
    "print(part_sum)"
   ]
  },
  {
   "cell_type": "code",
   "execution_count": 4,
   "id": "dd4e9704",
   "metadata": {},
   "outputs": [
    {
     "name": "stdout",
     "output_type": "stream",
     "text": [
      "1.532088886237968\n"
     ]
    }
   ],
   "source": [
    "starting_value = 2\n",
    "\n",
    "def f_term(x):\n",
    "    return(x**3 + 0*x**2 - 3*x + 1)\n",
    "def f_prime(y):\n",
    "    return (3*y ** 2 - 3)\n",
    "\n",
    "def nthroot(initial_value):\n",
    "    tolerance = 100000\n",
    "    while tolerance >= 10 ** -4:\n",
    "    \n",
    "        new_value = initial_value - (f_term(initial_value) / f_prime(initial_value))\n",
    "        tolerance = abs(initial_value - new_value)\n",
    "        initial_value = new_value\n",
    "    \n",
    "    return(initial_value)\n",
    "\n",
    "print(nthroot(starting_value))"
   ]
  },
  {
   "cell_type": "code",
   "execution_count": null,
   "id": "0064cfa1",
   "metadata": {},
   "outputs": [],
   "source": []
  },
  {
   "cell_type": "code",
   "execution_count": null,
   "id": "d946e3fb",
   "metadata": {},
   "outputs": [],
   "source": []
  },
  {
   "cell_type": "code",
   "execution_count": null,
   "id": "0e8dd17c",
   "metadata": {},
   "outputs": [],
   "source": []
  },
  {
   "cell_type": "code",
   "execution_count": null,
   "id": "a3765a46",
   "metadata": {},
   "outputs": [],
   "source": []
  }
 ],
 "metadata": {
  "kernelspec": {
   "display_name": "Python 3 (ipykernel)",
   "language": "python",
   "name": "python3"
  },
  "language_info": {
   "codemirror_mode": {
    "name": "ipython",
    "version": 3
   },
   "file_extension": ".py",
   "mimetype": "text/x-python",
   "name": "python",
   "nbconvert_exporter": "python",
   "pygments_lexer": "ipython3",
   "version": "3.9.12"
  }
 },
 "nbformat": 4,
 "nbformat_minor": 5
}
